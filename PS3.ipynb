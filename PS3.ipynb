{
 "cells": [
  {
   "cell_type": "code",
   "execution_count": 1,
   "id": "b37b0341",
   "metadata": {},
   "outputs": [],
   "source": [
    "# standard tools in Python for economists\n",
    "import numpy as np \n",
    "from   numpy import linspace, logspace, log, exp, sqrt, bmat, zeros, ones, round\n",
    "from numpy.linalg import inv, norm, eig\n",
    "import pandas as pd\n",
    "import scipy.optimize as opt\n",
    "import matplotlib.pyplot as plt\n",
    "import matplotlib.dates as mdates\n",
    "import seaborn as sns\n",
    "from scipy.interpolate import interp1d\n",
    "from numba import jit, njit, guvectorize  # vectorizes loops to improve performance\n",
    "from numpy.matlib import repmat\n",
    "# pip install quantecon  ### run this the first time you install quantecon\n",
    "import quantecon as qe\n",
    "from quantecon import MarkovChain"
   ]
  },
  {
   "cell_type": "markdown",
   "id": "92fed87c",
   "metadata": {},
   "source": [
    "# Problem 2"
   ]
  },
  {
   "cell_type": "code",
   "execution_count": 2,
   "id": "19d1a0a9",
   "metadata": {},
   "outputs": [],
   "source": [
    "β = .96\n",
    "r = .03\n",
    "γ = 1\n",
    "δ = 0.05\n",
    "α = 0.3\n",
    "u = lambda c, γ: c**(1-γ)/(1-γ) if γ!=1 else log(c) #utility function\n",
    "u1 = lambda c, γ: c**(-γ) #u'\n",
    "u1inv = lambda u1, γ: u1**(-1/γ) #u' inverse\n",
    "\n",
    "e_backward = 1e-10 # backward iteration tolerance\n",
    "imax_backward = 1e5 # max iterations for backward iteration\n",
    "\n",
    "# e_forward = 1e-10 # forward iteration tolerance\n",
    "# imax_forward = 1e5 # max iterations for forward iteration\n",
    "\n",
    "# baseline income grid and transition\n",
    "yL = 1\n",
    "yH = 2\n",
    "ns = 2\n",
    "s_grid = np.array([yL, yH])\n",
    "Π = np.array([[.95, .05], [.1, .9]]) # transition matrix\n",
    "\n",
    "# asset grid\n",
    "amin = 0\n",
    "amax = 100\n",
    "na = 1000\n",
    "\n",
    "# Interest rate grid\n",
    "nR = 10\n",
    "R_grid = np.linspace(1,1/β, num=nR)"
   ]
  },
  {
   "cell_type": "code",
   "execution_count": 3,
   "id": "fbec096e",
   "metadata": {},
   "outputs": [],
   "source": [
    "# Here are a few specifications you can play with\n",
    "\n",
    "# baseline parameters\n",
    "param_base = {'δ': δ, 'α': α, 'r': r, 'β': β, 'γ': γ, 'yL': yL, 'yH':yH, 'θ': 0, 'x': 0, 'amin': 0}"
   ]
  },
  {
   "cell_type": "code",
   "execution_count": 4,
   "id": "c7d3c1be",
   "metadata": {},
   "outputs": [],
   "source": [
    "# Wages as fxn of R\n",
    "def w_R(R, param=param_base):\n",
    "    α = param['α']\n",
    "    δ = param['δ']\n",
    "    w = (1-α)*(α**(α/(1-α)))*((R-1+δ)**(-α/(1-α)))\n",
    "    return w"
   ]
  },
  {
   "cell_type": "code",
   "execution_count": 5,
   "id": "9f9cd066",
   "metadata": {},
   "outputs": [],
   "source": [
    "def prepare(yL=yL, yH=yH, amin=amin, amax=amax, na=na, θ=0, x=0):\n",
    "    \n",
    "    s_grid = np.array([yL, yH]) # set up income grid (1x2)\n",
    "    \n",
    "    c = abs(amin) + 1\n",
    "    a_grid = np.exp(np.linspace(np.log(c+amin), np.log(c+amax), num = na)) - c # exponential grid\n",
    "    ma_grid, ms_grid = np.meshgrid(a_grid, s_grid) # create grid of assets and income values\n",
    "    \n",
    "    # prepare transition matrix\n",
    "    Π = np.array([[.95-θ, .05+θ], [.1+θ, .9-θ]])\n",
    "    \n",
    "    # find stationary earning distribution, useful only in PS4\n",
    "    s_dist = ones(ns)/ns\n",
    "    for i in range(1000):\n",
    "        s_dist = Π.T@s_dist # stationary distribution\n",
    "\n",
    "    return ma_grid, ms_grid, Π, s_dist\n",
    "\n",
    "# baseline\n",
    "ma_grid, ms_grid, Π, s_dist = prepare()\n",
    "coh = (1+r)*ma_grid + ms_grid # cash on hand"
   ]
  },
  {
   "cell_type": "code",
   "execution_count": 6,
   "id": "137d3425",
   "metadata": {},
   "outputs": [],
   "source": [
    "# ---------------------------------------------------\n",
    "# 1-step backward iteration\n",
    "def backward1(Va_future, r=r, β=β, γ=γ, ma_grid=ma_grid, coh=coh, Π=Π, report='N'):\n",
    "    \n",
    "    Va_future[Va_future < 1e-5] = 1e-5\n",
    "    cnext = u1inv(β * Π @ Va_future, γ) # cnext is a function of s and a'\n",
    "        # backing out c using equated marginal utilities across periods\n",
    "        \n",
    "    a_policy = ones([ns,na]) #initialize asset policy matrix (2x1000)\n",
    "    for s in range(ns):  #iterate over states\n",
    "        x = coh[s,:] # vector showing cash on hand matrix for given income at all possible asset values (1x1000)\n",
    "        xp = cnext + ma_grid # given that you ended up with assets ma_grid and consumed cnext, you must have started\n",
    "            # with assets in xp matrix\n",
    "        xp = xp[s,:] # take the vector from that matrix for your state\n",
    "        fp = ma_grid[s,:] \n",
    "        # np.interp: x to xp is the output to fp\n",
    "        a_policy[s,:] = np.interp(x, xp, fp)\n",
    "\n",
    "        \n",
    "    # set a and c to respect the borrowing limit\n",
    "    a_policy[a_policy < ma_grid[0,0]] = ma_grid[0,0] # set any elements below lowest asset value to lowest value\n",
    "    c_policy = coh - a_policy # get consumption from cash on hand and savings decisions\n",
    "    c_policy[c_policy < 1e-5] = 1e-5 # bring all consumption up to min value\n",
    "    a_policy = coh - c_policy # recalculate assets based on bounded consumption\n",
    "    Va = (1+r)*u1(c_policy, γ) # get next value fxn derivative value matrix using new consumption policy\n",
    "    return Va, a_policy, c_policy\n",
    "\n",
    "# ---------------------------------------------------\n",
    "# backward iteration to steady state\n",
    "def backward(param=param_base, w='exog', report='N', criterium='Va',\\\n",
    "             error=e_backward, imax=imax_backward): \n",
    "    r = param['r']\n",
    "    β = param['β']\n",
    "    γ = param['γ']\n",
    "    \n",
    "    if w=='exog': #if wage =1 set exogenously\n",
    "        yL = param['yL']\n",
    "        yH = param['yH']\n",
    "    else: #if wage is set endogenously\n",
    "        w = w_R(1+r, param=param) # get wage as fxn of r\n",
    "        yL = w*param['yL']\n",
    "        yH = w*param['yH']\n",
    "        \n",
    "    # make grids\n",
    "    ma_grid, ms_grid, Π, s_dist = prepare(yL=yL, yH=yH, amin=param['amin'], θ=param['θ'], x=param['x']) #set up grids using parameters\n",
    "    coh = (1+r)*ma_grid + ms_grid # cash on hand, using return on assets carried into current period plus income in current period\n",
    "    param.update({'ma_grid': ma_grid, 'ms_grid': ms_grid, 'coh': coh, \n",
    "                  'a_grid': ma_grid[0,:], 's_grid': ms_grid[:,0], 'Π': Π, 's_dist': s_dist}) \n",
    "        #update all of the parameters based on new grid values\n",
    "    \n",
    "    # initial guess to start the iteration. consume 5% of coh\n",
    "    c_policy0 = .05*coh\n",
    "    c_policy0[c_policy0 < 1e-5] = 1e-5 # fix any values below min\n",
    "    Va0 = (1+r)*u1(c_policy0, γ) # get new value function derivative using guessed consumption policy\n",
    "\n",
    "    if report == 'Y':\n",
    "        print('-----\\nBackward iteration starts.')\n",
    "    \n",
    "    i = 0\n",
    "    e = error+1\n",
    "    if i == 0:\n",
    "        Va_old = Va0\n",
    "        Va_old[Va_old < 1e-5] = 1e-5\n",
    "        c_policy_old = u1inv(Va_old/(1+r), γ) # get old consumption guess by inverting value fxn derivative\n",
    "    \n",
    "    while e > error and i < imax: #while outside of acceptable range and not at max iterations\n",
    "        Va, a_policy, c_policy = backward1(Va_old, r=r, β=β, γ=γ, ma_grid=ma_grid, coh=coh, Π=Π, report=report)\n",
    "            #iterate backwards one step\n",
    "        # convergence criterium block\n",
    "        if criterium == 'c': # error based on consumption policy\n",
    "            e = np.max(np.abs(c_policy-c_policy_old))\n",
    "        elif criterium == 'Va': # error based on Va\n",
    "            e = np.max(np.abs(Va-Va_old))\n",
    "        else:\n",
    "            raise ValueError(\"criterium has to be 'c' or 'Va'\")\n",
    "        \n",
    "        #c_policy_old = c_policy # use new c policy as old in next iteration\n",
    "        Va_old = Va # use new value function derivative as old in next iteration\n",
    "        i += 1\n",
    "        if i % 500 == 0 and report == 'Y':\n",
    "            print('current iteration:', i)\n",
    "            print('current error:', e)\n",
    "        \n",
    "    if i == imax:\n",
    "        print('Warning! -- used max backward iteration:', imax)\n",
    "    if report == 'Y':\n",
    "        print('# of iterations:', i)\n",
    "        print('error:', e)\n",
    "        print('Backward iteration ends.\\n-----')\n",
    "        \n",
    "    return Va, a_policy, c_policy, param \n",
    "        # return value derivative, final policies, final parameters one policies/value fxn deriv have converged"
   ]
  },
  {
   "cell_type": "code",
   "execution_count": 7,
   "id": "8f3334f1",
   "metadata": {},
   "outputs": [],
   "source": [
    "Va, a_policy, c_policy, param = backward()"
   ]
  },
  {
   "cell_type": "code",
   "execution_count": 8,
   "id": "68447544",
   "metadata": {},
   "outputs": [],
   "source": [
    "# Defining a function that maps assets a to a \n",
    "# grid with probabilities of transitioning to different asset states\n",
    "\n",
    "# a argument is non-grid a' (i.e., a value output by a policy fxn) \n",
    "# that we want to convert into transition probabilities for up to 2 states on the grid\n",
    "def a_prob(a, ma_grid):\n",
    "    a_prob_grid = zeros([ns,na])\n",
    "    for s in range(ns):\n",
    "        a1_idx = np.argmin(np.abs(np.array(ma_grid[s,:])-a)) # get a1 on grid closest to a\n",
    "        a1 = ma_grid[s,a1_idx]\n",
    "        if a < ma_grid[s,a1_idx]: # if a < a1\n",
    "            a2_idx = a1_idx - 1 # a2 is the closest lower gridpoint\n",
    "        elif a > ma_grid[s, a1_idx]: # if a > a1\n",
    "            a2_idx = a1_idx + 1 # a2 is the closest higher gridpoint\n",
    "        else:\n",
    "            a2_idx = a1_idx\n",
    "            a_prob_grid[s, a1_idx] = 1\n",
    "            continue # move on to next s\n",
    "        a2 = ma_grid[s,a2_idx]\n",
    "        # At this point we know closest a1, a2 to a\n",
    "        # probability of transitioning into a1 = p\n",
    "        p = (a2 - a)/(a2 - a1)\n",
    "        a_prob_grid[s, a1_idx] = p\n",
    "        a_prob_grid[s, a2_idx] = 1-p\n",
    "    return a_prob_grid\n",
    "\n",
    "# returns ns x na matrix where e/ cell is the prob of \n",
    "# ending up in that asset state given that you started in a"
   ]
  },
  {
   "cell_type": "code",
   "execution_count": 9,
   "id": "8b036cde",
   "metadata": {},
   "outputs": [],
   "source": [
    "# Define function that generates transition matrix T between (y, a) states\n",
    "def make_T(a_policy, Π=Π, ma_grid=ma_grid):\n",
    "    # Π is ns x ns transition matrix for income states\n",
    "    # a_policy is ns x na matrix, gives a' for starting state (y, a)\n",
    "    # a_policy is R-specific!\n",
    "    \n",
    "    n_states = ma_grid.shape[0] * ma_grid.shape[1] # get number of (y, a) states = N\n",
    "    T = zeros([n_states, n_states]) # initialize NxN transition matrix\n",
    "        # T row is [(y1, a1), (y1, a2), ... (y1, a1000), (y2, a1), ... (y2, a1000)]\n",
    "    for a in range(na): #iterate over starting asset states\n",
    "        for s in range(ns): # iterate over starting income states\n",
    "            a_prob_grid = a_prob(a_policy[s, a], ma_grid)\n",
    "                # get grid showing prob of ending up in e/ asset state after starting in a\n",
    "            start_idx = na*s + a #get index of start state in T-vector terms\n",
    "            for s_new in range(ns): # iterate over destination income states\n",
    "                for a_new in range(na): #iterate over destination asset states\n",
    "                    end_idx = na*s_new + a_new # get index of end state in T-vector terms\n",
    "                    T[start_idx, end_idx] = Π[s, s_new] * a_prob_grid[s, a_new]\n",
    "                        # prob of moving from (y, a) -> (y', a') is prob of moving a -> a'\n",
    "                        # multiplied by prob of moving y -> y'\n",
    "    return T\n",
    "\n",
    "# Debugging notes: might need to change this to get rid of unecessary s-indexing\n",
    "# since a policy is the same across income states"
   ]
  },
  {
   "cell_type": "code",
   "execution_count": 10,
   "id": "dadca0d1",
   "metadata": {},
   "outputs": [],
   "source": [
    "T = make_T(a_policy=a_policy, Π= Π, ma_grid=ma_grid)\n",
    "T_R = T.T # transpose to get transition operator"
   ]
  },
  {
   "cell_type": "code",
   "execution_count": 11,
   "id": "96ff3cbd",
   "metadata": {},
   "outputs": [],
   "source": [
    "# Given R -> a_policy -> T_R transition operator\n",
    "def get_mu(T_R):\n",
    "    I_T_R = np.identity(T_R.shape[0]) - T_R\n",
    "    \n",
    "    I_T_R_drop = I_T_R[:-1,:-1]\n",
    "    Y = I_T_R[:-1, -1] * -1\n",
    "    mu = inv(I_T_R_drop)@Y\n",
    "    mu = np.append(mu, 1)\n",
    "    mu = mu/np.sum(mu)\n",
    "    \n",
    "    return mu"
   ]
  },
  {
   "cell_type": "code",
   "execution_count": 12,
   "id": "3d184391",
   "metadata": {},
   "outputs": [],
   "source": [
    "μ = get_mu(T_R)"
   ]
  },
  {
   "cell_type": "code",
   "execution_count": 13,
   "id": "d8f219f9",
   "metadata": {},
   "outputs": [],
   "source": [
    "# Get aggregate assets\n",
    "def agg_A(μ, ma_grid):\n",
    "    # μ is (ns x na) x 1 vector\n",
    "        # formatted [(y1, a1), (y1, a2), ... (y1, a1000), (y2, a1), ... (y2, a1000)]\n",
    "    # ma_grid is ns x na matrix\n",
    "    A = 0 #initialize aggregate assets\n",
    "    for s in range(ns):\n",
    "        for a in range(na):\n",
    "            A += ma_grid[s,a]*μ[na*s+a] \n",
    "            # multiply asset value by share of ppl in that y, a state\n",
    "    return A\n",
    "        "
   ]
  },
  {
   "cell_type": "code",
   "execution_count": 14,
   "id": "2b747247",
   "metadata": {},
   "outputs": [],
   "source": [
    "A = agg_A(μ, ma_grid)"
   ]
  },
  {
   "cell_type": "code",
   "execution_count": 15,
   "id": "f1fa0007",
   "metadata": {},
   "outputs": [],
   "source": [
    "# Function that takes in R -> a_policy -> T_R -> μ -> A\n",
    "def A_R(R, w='exog', param=param_base):\n",
    "    r = R-1\n",
    "    # set NBC\n",
    "    amin = -1/0.03\n",
    "    Va, a_policy, c_policy, param = backward(param={**param, 'r': r, 'amin': amin}, w=w) # get a_policy\n",
    "    ma_grid_r = param['ma_grid']\n",
    "    T = make_T(a_policy=a_policy, Π= Π, ma_grid=ma_grid_r)\n",
    "    T_R = T.T # transpose to get transition operator\n",
    "    μ = get_mu(T_R) # get stationary distribution\n",
    "    A = agg_A(μ, ma_grid=ma_grid_r)\n",
    "    \n",
    "    return A"
   ]
  },
  {
   "cell_type": "code",
   "execution_count": 16,
   "id": "d8c20ab8",
   "metadata": {},
   "outputs": [],
   "source": [
    "# Plotting A(R) as a fxn of R\n",
    "\n",
    "A_vals = [A_R(R) for R in R_grid]\n",
    "A_vals_a = [A_R(R, w='endog') for R in R_grid]\n"
   ]
  },
  {
   "cell_type": "code",
   "execution_count": 17,
   "id": "453c0efa",
   "metadata": {
    "scrolled": true
   },
   "outputs": [
    {
     "data": {
      "text/plain": [
       "<matplotlib.legend.Legend at 0x7fbe1ca9cfd0>"
      ]
     },
     "execution_count": 17,
     "metadata": {},
     "output_type": "execute_result"
    },
    {
     "data": {
      "image/png": "[encoded data removed]",
      "text/plain": [
       "<Figure size 432x288 with 1 Axes>"
      ]
     },
     "metadata": {
      "needs_background": "light"
     },
     "output_type": "display_data"
    }
   ],
   "source": [
    "plt.plot(R_grid, A_vals, label='Huggett')\n",
    "plt.plot(R_grid, A_vals_a, label='Aiyagari')\n",
    "plt.xlabel('R')\n",
    "plt.ylabel('aggregate assets')\n",
    "plt.legend()"
   ]
  },
  {
   "cell_type": "code",
   "execution_count": 18,
   "id": "92f8aa5d",
   "metadata": {},
   "outputs": [
    {
     "data": {
      "text/plain": [
       "array([ 0.1617575 ,  0.1799516 ,  0.18918648,  0.17655352,  0.10934884,\n",
       "       -0.11665577, -0.86290593, -3.06034808, -2.19351162, -1.23185926])"
      ]
     },
     "execution_count": 18,
     "metadata": {},
     "output_type": "execute_result"
    }
   ],
   "source": [
    "np.subtract(A_vals_a, A_vals)"
   ]
  },
  {
   "cell_type": "markdown",
   "id": "d6f2fb9c",
   "metadata": {},
   "source": [
    "In the figure above, we see that with both models aggregate assets increase with R. Intuitively, this is because a higher interest rate makes saving more appealing so individuals are incentivized to gather and keep higher assets to accrue the high interest. This relationship is weaker (i.e., the slope is smaller in magnitude) for values of R close to 1. This is because a low interest rate increases that chance that individuals are near the borrowing constraint, meaning that a marginal increase in R is going to pass through to increase consumption and keep aggregate assets low.\n",
    "\n",
    "As the differences above show, at low levels of R the Aiyagari model predicts higher aggregate assets than the Huggett model. This relationship flips as some level of R. When determined endogenously, wages are decreasing in R. In the Aiyagari model, all of the interest rates plotted above correspond to a wage greater than 1 (the wage used in the Huggett model results above). A higher value of w means that income levels and variance both increase. \n",
    "\n",
    "# FINISH\n"
   ]
  },
  {
   "cell_type": "code",
   "execution_count": 19,
   "id": "aeae1f26",
   "metadata": {},
   "outputs": [],
   "source": [
    "# Function to get R implied by μ\n",
    "\n",
    "def R_mu(μ, a_grid, s_grid, param=param_base):\n",
    "    a_vals = np.append(a_grid, a_grid) # get vector showing a_val for e/ cell in μ\n",
    "    K=0 #initialize agg capital supply\n",
    "    for i in range(len(a_vals)):\n",
    "        K += a_vals[i]*μ[i] # add capital value*share of people for each cell in μ\n",
    "    N=0 #initialize agg labor supply\n",
    "    y_vals =[] # get vector showing y_val for e/ cell in μ\n",
    "    for i in range(len(s_grid)): #iterate over income state values\n",
    "        y_vals = np.append(y_vals, np.repeat(s_grid[i], len(a_grid)))\n",
    "    for i in range(len(y_vals)):\n",
    "        N += y_vals[i]*μ[i]\n",
    "    \n",
    "    α=param['α']\n",
    "    δ=param['δ']\n",
    "    R_mu = α*(N/K)**(1-α) + 1-δ # get R implied by μ\n",
    "    return R_mu, N, K"
   ]
  },
  {
   "cell_type": "code",
   "execution_count": 20,
   "id": "24361925",
   "metadata": {},
   "outputs": [],
   "source": [
    "# Function to get w implied by μ\n",
    "def w_mu(μ, a_grid, s_grid, param=param_base):\n",
    "    R_m, N, K = R_mu(μ, a_grid, s_grid, param=param) # get R as fxn of μ\n",
    "    α=param['α']\n",
    "    δ=param['δ']\n",
    "    w_mu = (1-α)*(α**(α/(1-α)))*(R_m - 1 + δ)**(-α/(1-α)) # get w as fxn of μ\n",
    "    return w_mu"
   ]
  },
  {
   "cell_type": "code",
   "execution_count": 21,
   "id": "1f9d0120",
   "metadata": {},
   "outputs": [],
   "source": [
    "# function to find market-clearing R\n",
    "def find_R(w='exog', param=param_base, eps=0.99, error=e_backward, imax=imax_backward):\n",
    "    if w=='exog':\n",
    "        R_star = opt.brentq(A_R, 1, 1/β)\n",
    "    else: #with exogenous wages, find eq'm R iteratively\n",
    "        amin= -1/.03\n",
    "        R_guess = 1/β # guess R in middle of grid range\n",
    "        e_R = error + 1\n",
    "        i = 1\n",
    "        while e_R > error and i < imax:\n",
    "            R_old = R_guess\n",
    "            r_guess = R_guess-1\n",
    "            Va, a_policy, c_policy, param = backward(w=w, param={**param, 'r':r_guess, 'amin':amin})\n",
    "            T = make_T(a_policy=a_policy, Π= Π, ma_grid=param['ma_grid'])\n",
    "            T_R = T.T # transpose to get transition operator\n",
    "            μ = get_mu(T_R)\n",
    "            A = agg_A(μ, ma_grid=param['ma_grid'])\n",
    "\n",
    "            w = w_R(R_guess, param=param) # get w implied by R_guess\n",
    "            # Get R and w based on μ implied by R_guess\n",
    "            R_m, N_m, K_m = R_mu(μ, a_grid=param['a_grid'], s_grid=param['s_grid'], param=param)\n",
    "                # R_mu(μ(R_guess))\n",
    "            w_m = w_mu(μ, a_grid=param['a_grid'], s_grid=param['s_grid'], param=param)\n",
    "                # w_mu(w_R(R_guess))\n",
    "\n",
    "            R_guess = (1-eps)*R_m + eps*R_old\n",
    "            e_R = np.abs(R_m - R_old)\n",
    "            \n",
    "            i += 1\n",
    "            if i % 500 == 0 and report == 'Y':\n",
    "                print('current iteration:', i)\n",
    "                print('current error:', e_R)\n",
    "        if i == imax:\n",
    "            print('Warning! -- used max backward iteration:', imax)\n",
    "        \n",
    "        R_star = R_old\n",
    "    return R_star\n",
    "        \n"
   ]
  },
  {
   "cell_type": "code",
   "execution_count": 25,
   "id": "7a8df10e",
   "metadata": {},
   "outputs": [],
   "source": [
    "R_eqm = find_R(w='exog')"
   ]
  },
  {
   "cell_type": "code",
   "execution_count": 22,
   "id": "a4b7b5b8",
   "metadata": {},
   "outputs": [],
   "source": [
    "R_eqm_a = find_R(w='endog')"
   ]
  },
  {
   "cell_type": "code",
   "execution_count": 23,
   "id": "5440dc9a",
   "metadata": {},
   "outputs": [],
   "source": [
    "# Plotting equilibrium invariant distribution\n",
    "\n",
    "def plot_asset_dist(R_eqm, w='exog', label=''):\n",
    "    r_eqm = R_eqm-1\n",
    "    amin_eqm = -1/0.03\n",
    "    Va_eqm, a_policy_eqm, c_policy_eqm, param_eqm = backward(w=w, param={**param_base, 'r': r_eqm, 'amin': amin_eqm}) \n",
    "    ma_grid_r_eqm = param_eqm['ma_grid']\n",
    "    T_eqm = make_T(a_policy=a_policy_eqm, Π= Π, ma_grid=ma_grid_r_eqm)\n",
    "    T_R_eqm = T_eqm.T # transpose to get transition operator\n",
    "    μ_eqm = get_mu(T_R_eqm) # get stationary distribution\n",
    "    print('aggregate assets: ', A_R(R_eqm, w=w))\n",
    "    a_vals = np.append(ma_grid_r_eqm[0], ma_grid_r_eqm[0]) # (ns*na)x1 vector showing a values for μ_eqm\n",
    "    a_dist = []\n",
    "    for a in ma_grid_r_eqm[0]: # iterate over a bins\n",
    "        a_dist.append(μ_eqm[a_vals == a].sum())\n",
    "    plt.plot(ma_grid_r_eqm[0], a_dist, label=label)\n"
   ]
  },
  {
   "cell_type": "code",
   "execution_count": 26,
   "id": "c75283c7",
   "metadata": {},
   "outputs": [
    {
     "name": "stdout",
     "output_type": "stream",
     "text": [
      "aggregate assets:  8.68193667729862\n",
      "aggregate assets:  -2.1397801011286486e-08\n"
     ]
    },
    {
     "data": {
      "text/plain": [
       "<matplotlib.legend.Legend at 0x7fbe394b4af0>"
      ]
     },
     "execution_count": 26,
     "metadata": {},
     "output_type": "execute_result"
    },
    {
     "data": {
      "image/png": "[encoded data removed]",
      "text/plain": [
       "<Figure size 432x288 with 1 Axes>"
      ]
     },
     "metadata": {
      "needs_background": "light"
     },
     "output_type": "display_data"
    }
   ],
   "source": [
    "plot_asset_dist(R_eqm_a, w='endog', label='Aiyagari')\n",
    "plot_asset_dist(R_eqm, label='Huggett')\n",
    "plt.legend()"
   ]
  }
 ],
 "metadata": {
  "kernelspec": {
   "display_name": "Python 3 (ipykernel)",
   "language": "python",
   "name": "python3"
  },
  "language_info": {
   "codemirror_mode": {
    "name": "ipython",
    "version": 3
   },
   "file_extension": ".py",
   "mimetype": "text/x-python",
   "name": "python",
   "nbconvert_exporter": "python",
   "pygments_lexer": "ipython3",
   "version": "3.9.12"
  }
 },
 "nbformat": 4,
 "nbformat_minor": 5
}
