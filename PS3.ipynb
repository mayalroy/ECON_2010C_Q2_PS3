{
 "cells": [
  {
   "cell_type": "code",
   "execution_count": 45,
   "id": "b37b0341",
   "metadata": {},
   "outputs": [],
   "source": [
    "# standard tools in Python for economists\n",
    "import numpy as np \n",
    "from   numpy import linspace, logspace, log, exp, sqrt, bmat, zeros, ones, round\n",
    "from numpy.linalg import inv, norm, eig\n",
    "import pandas as pd\n",
    "import scipy.optimize as opt\n",
    "import matplotlib.pyplot as plt\n",
    "import matplotlib.dates as mdates\n",
    "import seaborn as sns\n",
    "from scipy.interpolate import interp1d\n",
    "from numba import jit, njit, guvectorize  # vectorizes loops to improve performance\n",
    "from numpy.matlib import repmat\n",
    "# pip install quantecon  ### run this the first time you install quantecon\n",
    "import quantecon as qe\n",
    "from quantecon import MarkovChain"
   ]
  },
  {
   "cell_type": "markdown",
   "id": "92fed87c",
   "metadata": {},
   "source": [
    "# Problem 2"
   ]
  },
  {
   "cell_type": "code",
   "execution_count": 46,
   "id": "19d1a0a9",
   "metadata": {},
   "outputs": [],
   "source": [
    "β = .96\n",
    "r = .03\n",
    "γ = 1\n",
    "u = lambda c, γ: c**(1-γ)/(1-γ) if γ!=1 else log(c) #utility function\n",
    "u1 = lambda c, γ: c**(-γ) #u'\n",
    "u1inv = lambda u1, γ: u1**(-1/γ) #u' inverse\n",
    "\n",
    "e_backward = 1e-10 # backward iteration tolerance\n",
    "imax_backward = 1e5 # max iterations for backward iteration\n",
    "\n",
    "# e_forward = 1e-10 # forward iteration tolerance\n",
    "# imax_forward = 1e5 # max iterations for forward iteration\n",
    "\n",
    "# baseline income grid and transition\n",
    "yL = 1\n",
    "yH = 2\n",
    "ns = 2\n",
    "s_grid = np.array([yL, yH])\n",
    "Π = np.array([[.95, .05], [.1, .9]]) # transition matrix\n",
    "\n",
    "# asset grid\n",
    "amin = 0\n",
    "amax = 100\n",
    "na = 1000\n",
    "\n",
    "# Interest rate grid\n",
    "nR = 5\n",
    "R_grid = np.linspace(1,1/β, num=nR)"
   ]
  },
  {
   "cell_type": "code",
   "execution_count": 47,
   "id": "9f9cd066",
   "metadata": {},
   "outputs": [],
   "source": [
    "def prepare(yL=yL, amin=amin, amax=amax, na=na, θ=0, x=0):\n",
    "    \n",
    "    # make grid\n",
    "    yL=1+x\n",
    "    yH = 2-x # set high and low income values\n",
    "    s_grid = np.array([yL, yH]) # set up income grid (1x2)\n",
    "    \n",
    "    c = abs(amin) + 1\n",
    "    a_grid = np.exp(np.linspace(np.log(c+amin), np.log(c+amax), num = na)) - c # exponential grid\n",
    "    ma_grid, ms_grid = np.meshgrid(a_grid, s_grid) # create grid of assets and income values\n",
    "    \n",
    "    # prepare transition matrix\n",
    "    Π = np.array([[.95-θ, .05+θ], [.1+θ, .9-θ]])\n",
    "    \n",
    "    # find stationary earning distribution, useful only in PS4\n",
    "    s_dist = ones(ns)/ns\n",
    "    for i in range(1000):\n",
    "        s_dist = Π.T@s_dist # stationary distribution\n",
    "\n",
    "    return ma_grid, ms_grid, Π, s_dist\n",
    "\n",
    "# baseline\n",
    "ma_grid, ms_grid, Π, s_dist = prepare()\n",
    "coh = (1+r)*ma_grid + ms_grid # cash on hand"
   ]
  },
  {
   "cell_type": "code",
   "execution_count": 48,
   "id": "fbec096e",
   "metadata": {},
   "outputs": [],
   "source": [
    "# Here are a few specifications you can play with\n",
    "\n",
    "# baseline parameters\n",
    "param_base = {'r': r, 'β': β, 'γ': γ, 'yL': yL, 'θ': 0, 'x': 0, 'amin': 0}"
   ]
  },
  {
   "cell_type": "code",
   "execution_count": 49,
   "id": "137d3425",
   "metadata": {},
   "outputs": [],
   "source": [
    "# ---------------------------------------------------\n",
    "# 1-step backward iteration\n",
    "def backward1(Va_future, r=r, β=β, γ=γ, ma_grid=ma_grid, coh=coh, Π=Π, report='N'):\n",
    "    \n",
    "    Va_future[Va_future < 1e-5] = 1e-5\n",
    "    cnext = u1inv(β * Π @ Va_future, γ) # cnext is a function of s and a'\n",
    "        # backing out c using equated marginal utilities across periods\n",
    "        \n",
    "    a_policy = ones([ns,na]) #initialize asset policy matrix (2x1000)\n",
    "    for s in range(ns):  #iterate over states\n",
    "        x = coh[s,:] # vector showing cash on hand matrix for given income at all possible asset values (1x1000)\n",
    "        xp = cnext + ma_grid # given that you ended up with assets ma_grid and consumed cnext, you must have started\n",
    "            # with assets in xp matrix\n",
    "        xp = xp[s,:] # take the vector from that matrix for your state\n",
    "        fp = ma_grid[s,:] \n",
    "        # np.interp: x to xp is the output to fp\n",
    "        a_policy[s,:] = np.interp(x, xp, fp)\n",
    "\n",
    "        \n",
    "    # set a and c to respect the borrowing limit\n",
    "    a_policy[a_policy < ma_grid[0,0]] = ma_grid[0,0] # set any elements below lowest asset value to lowest value\n",
    "    c_policy = coh - a_policy # get consumption from cash on hand and savings decisions\n",
    "    c_policy[c_policy < 1e-5] = 1e-5 # bring all consumption up to min value\n",
    "    a_policy = coh - c_policy # recalculate assets based on bounded consumption\n",
    "    Va = (1+r)*u1(c_policy, γ) # get next value fxn derivative value matrix using new consumption policy\n",
    "    return Va, a_policy, c_policy\n",
    "\n",
    "# ---------------------------------------------------\n",
    "# backward iteration to steady state\n",
    "def backward(param=param_base, report='N', criterium='Va',\\\n",
    "             error=e_backward, imax=imax_backward): \n",
    "    r = param['r']\n",
    "    β = param['β']\n",
    "    γ = param['γ']\n",
    "    \n",
    "    # make grids\n",
    "    ma_grid, ms_grid, Π, s_dist = prepare(yL=param['yL'], amin=param['amin'], θ=param['θ'], x=param['x']) #set up grids using parameters\n",
    "    coh = (1+r)*ma_grid + ms_grid # cash on hand, using return on assets carried into current period plus income in current period\n",
    "    param.update({'ma_grid': ma_grid, 'ms_grid': ms_grid, 'coh': coh, \n",
    "                  'a_grid': ma_grid[0,:], 's_grid': ms_grid[:,0], 'Π': Π, 's_dist': s_dist}) \n",
    "        #update all of the parameters based on new grid values\n",
    "    \n",
    "    # initial guess to start the iteration. consume 5% of coh\n",
    "    c_policy0 = .05*coh\n",
    "    c_policy0[c_policy0 < 1e-5] = 1e-5 # fix any values below min\n",
    "    Va0 = (1+r)*u1(c_policy0, γ) # get new value function derivative using guessed consumption policy\n",
    "\n",
    "    if report == 'Y':\n",
    "        print('-----\\nBackward iteration starts.')\n",
    "    \n",
    "    i = 0\n",
    "    e = error+1\n",
    "    if i == 0:\n",
    "        Va_old = Va0\n",
    "        Va_old[Va_old < 1e-5] = 1e-5\n",
    "        c_policy_old = u1inv(Va_old/(1+r), γ) # get old consumption guess by inverting value fxn derivative\n",
    "    \n",
    "    while e > error and i < imax: #while outside of acceptable range and not at max iterations\n",
    "        Va, a_policy, c_policy = backward1(Va_old, r=r, β=β, γ=γ, ma_grid=ma_grid, coh=coh, Π=Π, report=report)\n",
    "            #iterate backwards one step\n",
    "        # convergence criterium block\n",
    "        if criterium == 'c': # error based on consumption policy\n",
    "            e = np.max(np.abs(c_policy-c_policy_old))\n",
    "        elif criterium == 'Va': # error based on Va\n",
    "            e = np.max(np.abs(Va-Va_old))\n",
    "        else:\n",
    "            raise ValueError(\"criterium has to be 'c' or 'Va'\")\n",
    "        \n",
    "        #c_policy_old = c_policy # use new c policy as old in next iteration\n",
    "        Va_old = Va # use new value function derivative as old in next iteration\n",
    "        i += 1\n",
    "        if i % 500 == 0 and report == 'Y':\n",
    "            print('current iteration:', i)\n",
    "            print('current error:', e)\n",
    "        \n",
    "    if i == imax:\n",
    "        print('Warning! -- used max backward iteration:', imax)\n",
    "    if report == 'Y':\n",
    "        print('# of iterations:', i)\n",
    "        print('error:', e)\n",
    "        print('Backward iteration ends.\\n-----')\n",
    "        \n",
    "    return Va, a_policy, c_policy, param \n",
    "        # return value derivative, final policies, final parameters one policies/value fxn deriv have converged"
   ]
  },
  {
   "cell_type": "code",
   "execution_count": 50,
   "id": "bbec8331",
   "metadata": {},
   "outputs": [],
   "source": [
    "Va, a_policy, c_policy, param = backward()"
   ]
  },
  {
   "cell_type": "code",
   "execution_count": 51,
   "id": "799379e7",
   "metadata": {},
   "outputs": [],
   "source": [
    "# Defining a function that maps assets a to a \n",
    "# grid with probabilities of transitioning to different asset states\n",
    "\n",
    "# a argument is non-grid a' (i.e., a value output by a policy fxn) \n",
    "# that we want to convert into transition probabilities for up to 2 states on the grid\n",
    "def a_prob(a, ma_grid):\n",
    "    a_prob_grid = zeros([ns,na])\n",
    "    for s in range(ns):\n",
    "        a1_idx = np.argmin(np.abs(np.array(ma_grid[s,:])-a)) # get a1 on grid closest to a\n",
    "        a1 = ma_grid[s,a1_idx]\n",
    "        if a < ma_grid[s,a1_idx]: # if a < a1\n",
    "            a2_idx = a1_idx - 1 # a2 is the closest lower gridpoint\n",
    "        elif a > ma_grid[s, a1_idx]: # if a > a1\n",
    "            a2_idx = a1_idx + 1 # a2 is the closest higher gridpoint\n",
    "        else:\n",
    "            a2_idx = a1_idx\n",
    "            a_prob_grid[s, a1_idx] = 1\n",
    "            continue # move on to next s\n",
    "        a2 = ma_grid[s,a2_idx]\n",
    "        # At this point we know closest a1, a2 to a\n",
    "        # probability of transitioning into a1 = p\n",
    "        p = (a2 - a)/(a2 - a1)\n",
    "        a_prob_grid[s, a1_idx] = p\n",
    "        a_prob_grid[s, a2_idx] = 1-p\n",
    "    return a_prob_grid\n",
    "\n",
    "# returns ns x na matrix where e/ cell is the prob of \n",
    "# ending up in that asset state given that you started in a"
   ]
  },
  {
   "cell_type": "code",
   "execution_count": 52,
   "id": "cf7e5232",
   "metadata": {},
   "outputs": [],
   "source": [
    "# Define function that generates transition matrix T between (y, a) states\n",
    "def make_T(a_policy, Π=Π, ma_grid=ma_grid):\n",
    "    # Π is ns x ns transition matrix for income states\n",
    "    # a_policy is ns x na matrix, gives a' for starting state (y, a)\n",
    "    # a_policy is R-specific!\n",
    "    \n",
    "    n_states = ma_grid.shape[0] * ma_grid.shape[1] # get number of (y, a) states = N\n",
    "    T = zeros([n_states, n_states]) # initialize NxN transition matrix\n",
    "        # T row is [(y1, a1), (y1, a2), ... (y1, a1000), (y2, a1), ... (y2, a1000)]\n",
    "    for a in range(na): #iterate over starting asset states\n",
    "        for s in range(ns): # iterate over starting income states\n",
    "            a_prob_grid = a_prob(a_policy[s, a], ma_grid)\n",
    "                # get grid showing prob of ending up in e/ asset state after starting in a\n",
    "            start_idx = na*s + a #get index of start state in T-vector terms\n",
    "            for s_new in range(ns): # iterate over destination income states\n",
    "                for a_new in range(na): #iterate over destination asset states\n",
    "                    end_idx = na*s_new + a_new # get index of end state in T-vector terms\n",
    "                    T[start_idx, end_idx] = Π[s, s_new] * a_prob_grid[s, a_new]\n",
    "                        # prob of moving from (y, a) -> (y', a') is prob of moving a -> a'\n",
    "                        # multiplied by prob of moving y -> y'\n",
    "    return T\n",
    "\n",
    "# Debugging notes: might need to change this to get rid of unecessary s-indexing\n",
    "# since a policy is the same across income states"
   ]
  },
  {
   "cell_type": "code",
   "execution_count": 53,
   "id": "b2f601cf",
   "metadata": {},
   "outputs": [],
   "source": [
    "T = make_T(a_policy=a_policy, Π= Π, ma_grid=ma_grid)\n",
    "T_R = T.T # transpose to get transition operator"
   ]
  },
  {
   "cell_type": "code",
   "execution_count": 54,
   "id": "7f7151c9",
   "metadata": {},
   "outputs": [],
   "source": [
    "# Given R -> a_policy -> T_R transition operator\n",
    "def get_mu(T_R):\n",
    "    I_T_R = np.identity(T_R.shape[0]) - T_R\n",
    "    \n",
    "    I_T_R_drop = I_T_R[:-1,:-1]\n",
    "    Y = I_T_R[:-1, -1] * -1\n",
    "    mu = inv(I_T_R_drop)@Y\n",
    "    mu = np.append(mu, 1)\n",
    "    mu = mu/np.sum(mu)\n",
    "    \n",
    "    return mu"
   ]
  },
  {
   "cell_type": "code",
   "execution_count": 55,
   "id": "4faa31db",
   "metadata": {},
   "outputs": [],
   "source": [
    "μ = get_mu(T_R)"
   ]
  },
  {
   "cell_type": "code",
   "execution_count": 56,
   "id": "e1c28310",
   "metadata": {},
   "outputs": [],
   "source": [
    "# Get aggregate assets\n",
    "def agg_A(μ, ma_grid):\n",
    "    # μ is (ns x na) x 1 vector\n",
    "        # formatted [(y1, a1), (y1, a2), ... (y1, a1000), (y2, a1), ... (y2, a1000)]\n",
    "    # ma_grid is ns x na matrix\n",
    "    A = 0 #initialize aggregate assets\n",
    "    for s in range(ns):\n",
    "        for a in range(na):\n",
    "            A += ma_grid[s,a]*μ[na*s+a] \n",
    "            # multiply asset value by share of ppl in that y, a state\n",
    "    return A\n",
    "        "
   ]
  },
  {
   "cell_type": "code",
   "execution_count": 57,
   "id": "b6ef8b33",
   "metadata": {},
   "outputs": [],
   "source": [
    "A = agg_A(μ, ma_grid)"
   ]
  },
  {
   "cell_type": "code",
   "execution_count": 60,
   "id": "4ef8fbf7",
   "metadata": {},
   "outputs": [],
   "source": [
    "# Function that takes in R -> a_policy -> T_R -> μ -> A\n",
    "def A_R(R, param=param_base):\n",
    "    r = R-1\n",
    "    # set NBC\n",
    "    amin = -1/max(r, 1e-5)\n",
    "    Va, a_policy, c_policy, param = backward(param={**param, 'r': r, 'amin': amin}) # get a_policy\n",
    "    ma_grid_r = param['ma_grid']\n",
    "    T = make_T(a_policy=a_policy, Π= Π, ma_grid=ma_grid_r)\n",
    "    T_R = T.T # transpose to get transition operator\n",
    "    μ = get_mu(T_R) # get stationary distribution\n",
    "    A = agg_A(μ, ma_grid=ma_grid_r)\n",
    "    \n",
    "    return A\n",
    "    "
   ]
  },
  {
   "cell_type": "code",
   "execution_count": 61,
   "id": "d47f5c6e",
   "metadata": {},
   "outputs": [
    {
     "data": {
      "text/plain": [
       "-99999.68191197808"
      ]
     },
     "execution_count": 61,
     "metadata": {},
     "output_type": "execute_result"
    }
   ],
   "source": [
    "A_R(1)"
   ]
  },
  {
   "cell_type": "code",
   "execution_count": 62,
   "id": "35d4e5b4",
   "metadata": {},
   "outputs": [
    {
     "data": {
      "text/plain": [
       "64.92783692086732"
      ]
     },
     "execution_count": 62,
     "metadata": {},
     "output_type": "execute_result"
    }
   ],
   "source": [
    "A_R(1/β)"
   ]
  },
  {
   "cell_type": "code",
   "execution_count": 63,
   "id": "154d26ad",
   "metadata": {},
   "outputs": [
    {
     "data": {
      "text/plain": [
       "1.0395783396681488"
      ]
     },
     "execution_count": 63,
     "metadata": {},
     "output_type": "execute_result"
    }
   ],
   "source": [
    "# function to find market-clearing R\n",
    "def find_R(param=param_base):\n",
    "    R_star = opt.brentq(A_R, 1, 1/β)\n",
    "    return R_star\n",
    "\n",
    "R = find_R()\n",
    "R"
   ]
  },
  {
   "cell_type": "markdown",
   "id": "15c44082",
   "metadata": {},
   "source": [
    "# QUESTIONS\n",
    "\n",
    "* Plot eqm invariant distribution?\n",
    "* How many values for R grid?\n"
   ]
  },
  {
   "cell_type": "code",
   "execution_count": null,
   "id": "e8754521",
   "metadata": {},
   "outputs": [],
   "source": [
    "# Here I provide a function that plots and saves results from different parameters\n",
    "\n",
    "# initiate a subfolder in your working folder called \"graphs\" to store all results\n",
    "\n",
    "# for each specification, plot consumption function, and saving function\n",
    "# variable takes in a string, such as 'r', 'β', ..., which is the variable you vary\n",
    "# values takes in a vector, which encodes different values you want to try\n",
    "# filename takes in a string, which will be the file name\n",
    "# display_na controls how many asset grids to show; default is to show all of them; set lower to see points close to amin\n",
    "# param_base takes in the baseline specification, based on which you will only change on variable at a time\n",
    "def plot_policy(variable, values, display_na=na, param_base=param_base):\n",
    "    \n",
    "    cmap = plt.get_cmap(\"tab10\") # color scheme\n",
    "    fig = plt.subplots(1,2,figsize=(14,5))\n",
    "    \n",
    "    plt.subplot(121)\n",
    "    plt.title('consumption policy')\n",
    "    for i, v in enumerate(values): #step through values of variable in interest\n",
    "        param = {**param_base, variable: v} # alter parameter of interest\n",
    "        Va, a_policy, c_policy, param = backward(param=param) # get policies and parameters\n",
    "        a = param['a_grid'] # store grids from converged parameters\n",
    "        s = param['s_grid']\n",
    "        plt.plot(a[:display_na], c_policy[0,:display_na], color=cmap(i), linestyle='--',\\\n",
    "                 label=f'y={round(s[0],2)} under {variable}={round(v,2)}') # plot consumptions by assets\n",
    "        plt.plot(a[:display_na], c_policy[1,:display_na], color=cmap(i), linestyle='-',\\\n",
    "                 label=f'y={round(s[1],2)} under {variable}={round(v,2)}')\n",
    "    plt.legend()\n",
    "    plt.ylabel('consumption policy $c$')\n",
    "    plt.xlabel('saving from last period $a_-$')\n",
    "    \n",
    "    \n",
    "    plt.subplot(122)\n",
    "    plt.title('change in saving')\n",
    "    for i, v in enumerate(values):\n",
    "        param = {**param_base, variable: v}\n",
    "        Va, a_policy, c_policy, param = backward(param=param)\n",
    "        a = param['a_grid']\n",
    "        s = param['s_grid']\n",
    "        plt.plot(a[:display_na], a_policy[0,:display_na]-a, color=cmap(i), linestyle='--',\\\n",
    "                 label=f'y={round(s[0],2)} under {variable}={round(v,2)}')\n",
    "        plt.plot(a[:display_na], a_policy[1,:display_na]-a, color=cmap(i), linestyle='-',\\\n",
    "                 label=f'y={round(s[1],2)} under {variable}={round(v,2)}') # plot savings by starting assets\n",
    "    plt.legend()\n",
    "    plt.ylabel('saving policy $a-a_-$')\n",
    "    plt.xlabel('saving from last period $a_-$')\n",
    " \n",
    "    plt.suptitle(f'Varying {variable} with values of {round(values,2)}')\n",
    "    plt.tight_layout()\n",
    "    return\n"
   ]
  },
  {
   "cell_type": "code",
   "execution_count": null,
   "id": "d5ae6c9b",
   "metadata": {},
   "outputs": [],
   "source": [
    "# Get asset policy for each interest rate\n",
    "r_a_policies = [None]*nr\n",
    "for i in range(nr):\n",
    "    r = r_grid[i]\n",
    "    Va, a_policy, c_policy, param = backward(param={**param_base, 'r': r})\n",
    "    #print(a_policy)\n",
    "    r_a_policies[i] = a_policy[0]"
   ]
  },
  {
   "cell_type": "code",
   "execution_count": null,
   "id": "29556ad0",
   "metadata": {},
   "outputs": [],
   "source": [
    "μ_0 = ones((nr, ns, na))*(1/(ns*na)) # uniform distribution across income x asset states"
   ]
  },
  {
   "cell_type": "code",
   "execution_count": null,
   "id": "7de769c5",
   "metadata": {},
   "outputs": [],
   "source": [
    "μ_1 = zeros((nr, ns, na)) # initialize next distribution"
   ]
  },
  {
   "cell_type": "code",
   "execution_count": null,
   "id": "28b00746",
   "metadata": {},
   "outputs": [],
   "source": [
    "def Q_transition(R, y, a)"
   ]
  },
  {
   "cell_type": "code",
   "execution_count": null,
   "id": "8f7aa9dc",
   "metadata": {},
   "outputs": [],
   "source": [
    "def iterate_μ1(μ_0, a_policies, nr=nr):\n",
    "    for r in range(nr): #iterate over interest rates\n",
    "        for s in range(ns): #iterate over STARTING income states\n",
    "            for i in range(na):\n",
    "                new_a_idx = np.where(ma_grid[s]==r_a_policies[r][i]) \n",
    "                    #given that you started with asset a1, a policy says you'll end up with assets a2. \n",
    "                    #new_a_idx is the index of a2 in ma_grid\n",
    "                for new_s in range(ns):\n",
    "                    μ_1[r, new_s, new_a_idx] += Π[s, new_s]*μ_0[r, s,i] \n",
    "                    # for the [new_s, a2] cell in μ_1, add prob that you were in [s, a1] x prob of moving from s -> new_s\n",
    "                    # (given that policy maps a1 -> a2)\n",
    "    return μ_1\n",
    "\n",
    "#---------------\n",
    "\n",
    "def iterate_μ(μ_0=μ_0, r_grid, error=error, imax=imax, param=param_base):\n",
    "    # get asset policy for each interest rate\n",
    "    nr = len(r_grid)\n",
    "    r_a_policies = [None]*nr\n",
    "    for i in range(nr):\n",
    "        r = r_grid[i]\n",
    "        Va, a_policy, c_policy, param = backward(param={**param, 'r': r})\n",
    "        r_a_policies[i] = a_policy[0]\n",
    "    \n",
    "    old_μ = μ_0\n",
    "    μ_1 = iterate_μ1(old_μ)\n",
    "    e = np.max(np.abs(μ_1-old_μ))\n",
    "    i = 1\n",
    "    while e > error and i < imax:\n",
    "        old_μ=μ_1\n",
    "        μ_1 = iterate_μ1(old_μ, r_a_policies)\n",
    "        e = np.max(np.abs(μ_1-old_μ))\n",
    "        i+=1\n",
    "    \n",
    "    \n",
    "    \n",
    "    \n",
    "    \n",
    "    \n",
    "    "
   ]
  },
  {
   "cell_type": "code",
   "execution_count": null,
   "id": "f703e029",
   "metadata": {},
   "outputs": [],
   "source": [
    "r_a_policies[0][500]"
   ]
  },
  {
   "cell_type": "code",
   "execution_count": null,
   "id": "8caba3b2",
   "metadata": {},
   "outputs": [],
   "source": [
    "np.where(ma_grid[1]==r_a_policies[0][500])"
   ]
  },
  {
   "cell_type": "code",
   "execution_count": null,
   "id": "d320543e",
   "metadata": {},
   "outputs": [],
   "source": [
    "# 4.3\n",
    "\n",
    "#find index of closest value in array\n",
    "def find_idx(array, value):\n",
    "    array = np.asarray(array)\n",
    "    idx = (np.abs(array - value)).argmin()\n",
    "    return idx"
   ]
  },
  {
   "cell_type": "code",
   "execution_count": null,
   "id": "4fba35ca",
   "metadata": {},
   "outputs": [],
   "source": [
    "# get policies using default parameters\n",
    "\n",
    "# function to get consumption path\n",
    "def get_paths(a_start, y, n, param=param_base):\n",
    "    Va, a_policy, c_policy, param = backward(param=param) # get policies and parameters\n",
    "    a = param['a_grid']\n",
    "    s = param['s_grid']\n",
    "    new_a = a_start\n",
    "    new_y = y\n",
    "    asset_path = ones(n)\n",
    "    c_path = ones(n)\n",
    "    for i in range(n):\n",
    "        asset_path[i] = new_a\n",
    "        a_idx = find_idx(a, new_a)\n",
    "        y_idx = find_idx(s, new_y)\n",
    "        new_c = c_policy[y_idx][a_idx]\n",
    "        c_path[i] = new_c\n",
    "        new_a = a_policy[y_idx][a_idx]\n",
    "    return asset_path,c_path\n",
    "\n",
    "\n",
    "def get_mpc(n, a_start, y_start, τ=0, param=param_base):\n",
    "    a_path, c_path = get_paths(a_start, y_start, n, param=param)\n",
    "    a_path_t, c_path_t = get_paths(a_start+τ, y_start, n, param=param)\n",
    "    \n",
    "    return c_path_t - c_path\n",
    "\n",
    "print(\"yL, yL: \", get_mpc(n=5, a_start=yL, y_start=yL, τ=0.05))\n",
    "print(\"2*yL, yL: \", get_mpc(n=5, a_start=2*yL, y_start=yL, τ=0.05))\n",
    "print(\"yL, yH: \", get_mpc(n=5, a_start=yL, y_start=yH, τ=0.05))\n",
    "print(\"2*yH, yH: \", get_mpc(n=5, a_start=2*yH, y_start=yH, τ=0.05))    \n",
    "\n",
    "\n",
    "\n",
    "    \n",
    "    \n",
    "    "
   ]
  },
  {
   "cell_type": "code",
   "execution_count": null,
   "id": "1bc38b00",
   "metadata": {},
   "outputs": [],
   "source": [
    "# function to plot MPC\n",
    "\n",
    "def plot_mpc(variable, values, τ=0, n=5, a_start=1.5, y_start=1, label = '', display_na=na, param_base=param_base):\n",
    "    cmap = plt.get_cmap(\"tab10\") # color scheme\n",
    "    fig = plt.subplots()\n",
    "    plt.title(\"MPC\")\n",
    "    \n",
    "    for i, v in enumerate(values): #step through values of variable in interest\n",
    "        param = {**param_base, variable: v} # alter parameter of interest\n",
    "        mpc = get_mpc(n, a_start, y_start, τ, param=param)\n",
    "        t_vals = [i+1 for i in range(n)]\n",
    "        if label != '':\n",
    "            plt.plot(t_vals, mpc, color=cmap(i), linestyle='--',\\\n",
    "                 label=label) # plot consumptions by assets\n",
    "        else:\n",
    "            plt.plot(t_vals, mpc, color=cmap(i), linestyle='--',\\\n",
    "                 label=f'{variable}={round(v,2)}') # plot consumptions by assets\n",
    "    plt.legend()\n",
    "    plt.ylabel('MPC')\n",
    "    plt.xlabel('period')\n",
    "    return"
   ]
  },
  {
   "cell_type": "code",
   "execution_count": null,
   "id": "75cf9705",
   "metadata": {},
   "outputs": [],
   "source": [
    "#4.4\n",
    "\n",
    "plot_mpc(variable='θ', values=[0], τ=0.05, n=5, a_start=yL, y_start=yL, label='yL, yL')\n",
    "plot_mpc(variable='θ', values=[0], τ=0.05, n=5, a_start=2*yH, y_start=yL, label='2*yH, yL')\n",
    "plot_mpc(variable='θ', values=[0], τ=0.05, n=5, a_start=yL, y_start=yH, label='yL, yH')\n",
    "plot_mpc(variable='θ', values=[0], τ=0.05, n=5, a_start=2*yH, y_start=yH, label='2*yH, yH')"
   ]
  },
  {
   "cell_type": "markdown",
   "id": "e36fe779",
   "metadata": {},
   "source": [
    "The figures above show that conditional on initial wealth, having a higher income lowers your MPC. This makes sense because the agent has less need to consume from the shock because their consumption from their regular income is higher, lowering their marginal propensity to consume. For the low income agent, having higher initial wealth lowers their MPC. This follows from the higher initial wealth keeping the agent away from their borrowing constraint, so they have a lower propensity to consume the shock. For the high income agent, having higher intial wealth raises their MPC. This could because they are sufficiently wealthy that saving is even less of a concern so they are more willing to consume the unexpected windfall."
   ]
  },
  {
   "cell_type": "code",
   "execution_count": null,
   "id": "7bf62255",
   "metadata": {},
   "outputs": [],
   "source": [
    "# 4.5\n",
    "\n",
    "plot_mpc(variable='amin', values=linspace(amin_nbc, 0, 3), τ=0.05, n=5)"
   ]
  },
  {
   "cell_type": "markdown",
   "id": "06f2296c",
   "metadata": {},
   "source": [
    "Moving the borrowing constraint up from the natural borrowing constraint to 0 increases the MPC. This is because raising the borrowing constraint means the agent is more likely have a binding borrowing constraint and having a binding constraint raises the marginal propensity to consume from a positive income shock."
   ]
  },
  {
   "cell_type": "code",
   "execution_count": null,
   "id": "61a1b511",
   "metadata": {},
   "outputs": [],
   "source": [
    "plot_mpc(variable='γ', values=linspace(0.5, 3, 3), τ=0.05, n=5)"
   ]
  },
  {
   "cell_type": "markdown",
   "id": "9ecfe153",
   "metadata": {},
   "source": [
    "Raising the risk aversion parameter from 0.5 to 3 decreases the MPC. This is because being more risk averse means theres a greater motivation to save a positive income shock to spread the consumption over future periods."
   ]
  },
  {
   "cell_type": "code",
   "execution_count": null,
   "id": "69c44389",
   "metadata": {},
   "outputs": [],
   "source": [
    "plot_mpc(variable='r', values=linspace(0.01, 0.04, 3), τ=0.05, n=5)"
   ]
  },
  {
   "cell_type": "markdown",
   "id": "5ce04ed2",
   "metadata": {},
   "source": [
    "A higher interest rate reduces the MPC. This makes sense because a higher interest rate increases returns to saving, so the agent will choose to consume less of the shock in each period."
   ]
  },
  {
   "cell_type": "code",
   "execution_count": null,
   "id": "023a5ae0",
   "metadata": {},
   "outputs": [],
   "source": [
    "plot_mpc(variable='β', values=linspace(0.9, 0.97, 3), τ=0.05, n=5)"
   ]
  },
  {
   "cell_type": "markdown",
   "id": "e768f629",
   "metadata": {},
   "source": [
    "Being more heavily present biased (i.e., having a lower beta value) raises the MPC because a more impatient agent does not value future consumption as much as a more patient agent, so the former will consume more of the shock in early periods."
   ]
  },
  {
   "cell_type": "code",
   "execution_count": null,
   "id": "242fb73f",
   "metadata": {},
   "outputs": [],
   "source": [
    "plot_mpc(variable='x', values=linspace(-0.4, 0.4, 3), τ=0.05, n=5)"
   ]
  },
  {
   "cell_type": "markdown",
   "id": "81e987bc",
   "metadata": {},
   "source": [
    "Reducing income variation (i.e., increasing x) reduces the MPC because holding y in the low income state, a larger x means a higher income so the individual is less likely to be up against their borrowin constraint and therefore has a lower expected MPC."
   ]
  },
  {
   "cell_type": "code",
   "execution_count": null,
   "id": "faa4c24a",
   "metadata": {},
   "outputs": [],
   "source": [
    "plot_mpc(variable='θ', values=linspace(-0.04, 0.6, 3), τ=0.05, n=5)"
   ]
  },
  {
   "cell_type": "markdown",
   "id": "092ab3ee",
   "metadata": {},
   "source": [
    "Increasing the chance of changing income states (i.e., increasing theta) increases the MPC because with low income (as plotted aboce), having a higher chance of moving into the high income state means that the agent is more likely to consume a positive shock since they have a higher chance of having high income in the future."
   ]
  }
 ],
 "metadata": {
  "kernelspec": {
   "display_name": "Python 3 (ipykernel)",
   "language": "python",
   "name": "python3"
  },
  "language_info": {
   "codemirror_mode": {
    "name": "ipython",
    "version": 3
   },
   "file_extension": ".py",
   "mimetype": "text/x-python",
   "name": "python",
   "nbconvert_exporter": "python",
   "pygments_lexer": "ipython3",
   "version": "3.9.12"
  }
 },
 "nbformat": 4,
 "nbformat_minor": 5
}
